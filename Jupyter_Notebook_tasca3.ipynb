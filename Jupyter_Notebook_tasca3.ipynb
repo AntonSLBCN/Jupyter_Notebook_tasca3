{
 "cells": [
  {
   "cell_type": "markdown",
   "metadata": {},
   "source": [
    "# Tasca3_exercici1"
   ]
  },
  {
   "cell_type": "markdown",
   "metadata": {},
   "source": [
    "L'exercici consisteix a crear un programa que et classifiqui una variable numèrica en funció de l’escala Suspès/Aprovat/Notable/Excel·lent."
   ]
  },
  {
   "cell_type": "code",
   "execution_count": 3,
   "metadata": {},
   "outputs": [
    {
     "name": "stdout",
     "output_type": "stream",
     "text": [
      "La classificació ha estat de  Notable\n"
     ]
    }
   ],
   "source": [
    "def create_grades(nota):\n",
    "    if nota <4.99:\n",
    "        qualif = 'suspens'\n",
    "    if nota >5 and nota <6.99:\n",
    "        qualif = 'aprovat'\n",
    "    if nota <  7 and nota < 8.99:\n",
    "        qualif = 'Notable'\n",
    "    if nota > 9:\n",
    "        qualif = 'Notable'\n",
    "    return qualif\n",
    "    \n",
    "print('La classificació ha estat de ',create_grades(6))\n",
    "    "
   ]
  },
  {
   "cell_type": "markdown",
   "metadata": {},
   "source": [
    "# Tasca3_exercici2"
   ]
  },
  {
   "cell_type": "markdown",
   "metadata": {},
   "source": [
    "Crea un programa que et pregunti dos números. T’ha de mostrar un missatge dient si el primer és més gran, el segon és més gran o són iguals."
   ]
  },
  {
   "cell_type": "code",
   "execution_count": 4,
   "metadata": {},
   "outputs": [
    {
     "name": "stdout",
     "output_type": "stream",
     "text": [
      "Introdueix un numero 7\n",
      "Introdueix un segon numero 8\n",
      "7  es mes petit que  8\n"
     ]
    }
   ],
   "source": [
    "x1 = int(input('Introdueix un numero '))\n",
    "x2 = int(input('Introdueix un segon numero '))\n",
    "if x1 == x2:\n",
    "    print( x1 , ' y ', x2 ,'son iguals')\n",
    "elif x1 > x2:\n",
    "    print( x1 , ' es mes gran que ', x2 )\n",
    "elif x1 < x2:\n",
    "    print( x1 , ' es mes petit que ', x2 )"
   ]
  },
  {
   "cell_type": "markdown",
   "metadata": {},
   "source": [
    "# Tasca3_exercici3"
   ]
  },
  {
   "cell_type": "markdown",
   "metadata": {},
   "source": [
    "Crea un programa que et pregunti el teu nom, i et demani un número. Si el número és 0, hauria de mostrar un missatge d’error"
   ]
  },
  {
   "cell_type": "code",
   "execution_count": 5,
   "metadata": {},
   "outputs": [
    {
     "name": "stdout",
     "output_type": "stream",
     "text": [
      "Com et dius?Anton\n",
      "Introdueix un numero 9\n",
      "has picat  9 i el nom  AntonAntonAntonAntonAntonAntonAntonAntonAnton .....\n"
     ]
    }
   ],
   "source": [
    "import numpy as np\n",
    "nom=  (input('Com et dius?'))\n",
    "num = int(input('Introdueix un numero '))\n",
    "num2 = num\n",
    "if num != 0:\n",
    "    arr= np.array(nom * num)\n",
    "    print('has picat ', num ,'i el nom es ',arr,'.....')\n",
    "else:\n",
    "      print ('fatal error')\n",
    "    "
   ]
  },
  {
   "cell_type": "markdown",
   "metadata": {},
   "source": [
    "# Tasca3_exercici4"
   ]
  },
  {
   "cell_type": "markdown",
   "metadata": {},
   "source": [
    "Crea un programa que donada una llista qualsevol, et digui si es simètrica o no. Si ho és, que et digui quants elements té."
   ]
  },
  {
   "cell_type": "code",
   "execution_count": 8,
   "metadata": {},
   "outputs": [
    {
     "name": "stdout",
     "output_type": "stream",
     "text": [
      "6 6\n",
      "4 8\n",
      "Aquesta lista no es simètrica amb  6 elements\n"
     ]
    }
   ],
   "source": [
    "import numpy \n",
    "from numpy import random\n",
    "\n",
    "arr =random.randint(10, size=(6))\n",
    "#arr = [1,2,3,3,2,1]\n",
    "num = 0\n",
    "\n",
    "while num < len(arr):\n",
    "    num_f = num + 1\n",
    "    print(arr[num], arr[-num_f] )\n",
    "    if arr[num] !=  arr[-num_f]:\n",
    "        print(\"Aquesta lista no es simètrica amb \", len(arr), 'elements')\n",
    "        break\n",
    "    else:\n",
    "        num = num + 1\n",
    "    if num == len(arr):\n",
    "        print(\"Aquesta lista es simètrica amb \", len(arr), 'elements')\n",
    "        \n",
    " "
   ]
  },
  {
   "cell_type": "markdown",
   "metadata": {},
   "source": [
    "# Tasca3_exercici5"
   ]
  },
  {
   "cell_type": "markdown",
   "metadata": {},
   "source": [
    "Crea un programa que donada una llista, et digui quants números coincideixen amb la seva posició. Per exemple [3,4,2,0,2,3,6] el 2 i el 6 coincideixen."
   ]
  },
  {
   "cell_type": "code",
   "execution_count": 9,
   "metadata": {},
   "outputs": [
    {
     "name": "stdout",
     "output_type": "stream",
     "text": [
      "[2 7 5 9 1 2 9 6 3 5]\n",
      "El numero  7 coincideix amb la posició 6\n"
     ]
    }
   ],
   "source": [
    "import numpy #(no esta bien)\n",
    "lst =numpy.random.randint(10, size=(10))\n",
    "\n",
    "print(lst)\n",
    "for num, pos in list(enumerate(lst)):\n",
    "    if int(num) == int(pos + 1 ):\n",
    "        print('El numero ', num,'coincideix amb la posició', pos)\n",
    "   "
   ]
  },
  {
   "cell_type": "code",
   "execution_count": null,
   "metadata": {},
   "outputs": [],
   "source": []
  },
  {
   "cell_type": "code",
   "execution_count": null,
   "metadata": {},
   "outputs": [],
   "source": []
  },
  {
   "cell_type": "code",
   "execution_count": null,
   "metadata": {},
   "outputs": [],
   "source": []
  }
 ],
 "metadata": {
  "kernelspec": {
   "display_name": "Python 3",
   "language": "python",
   "name": "python3"
  },
  "language_info": {
   "codemirror_mode": {
    "name": "ipython",
    "version": 3
   },
   "file_extension": ".py",
   "mimetype": "text/x-python",
   "name": "python",
   "nbconvert_exporter": "python",
   "pygments_lexer": "ipython3",
   "version": "3.8.5"
  }
 },
 "nbformat": 4,
 "nbformat_minor": 4
}
